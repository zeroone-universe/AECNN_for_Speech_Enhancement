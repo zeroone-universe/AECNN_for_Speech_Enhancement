{
 "cells": [
  {
   "cell_type": "code",
   "execution_count": 1,
   "metadata": {},
   "outputs": [],
   "source": [
    "from torch.nn import MSELoss, L1Loss\n",
    "import torch \n",
    "import scipy.signal as sig\n",
    "import torch.nn as nn\n",
    "import torch.nn.functional as F\n",
    "import scipy.signal as sig\n",
    "import numpy as np\n",
    "\n",
    "from config import *\n"
   ]
  },
  {
   "cell_type": "code",
   "execution_count": 2,
   "metadata": {},
   "outputs": [],
   "source": [
    "def stft_RIsum(x, nfft=STFTLOSS_WINDOW_SIZE, win_length=STFTLOSS_WINDOW_SIZE, hop_length=STFTLOSS_HOP_SIZE):\n",
    "    \n",
    "    window = torch.hann_window(win_length).to(x.device)\n",
    "\n",
    "    X = torch.stft(x, nfft, hop_length=STFTLOSS_HOP_SIZE, win_length=STFTLOSS_WINDOW_SIZE,\n",
    "                window = window)\n",
    "    return torch.abs(X[...,0]) + torch.abs(X[...,1])"
   ]
  },
  {
   "cell_type": "code",
   "execution_count": 4,
   "metadata": {},
   "outputs": [],
   "source": [
    "x_proc = torch.rand(1,2048)\n",
    "x_orig = torch.rand(1,2048)"
   ]
  },
  {
   "cell_type": "code",
   "execution_count": 5,
   "metadata": {},
   "outputs": [
    {
     "name": "stderr",
     "output_type": "stream",
     "text": [
      "/home/youngwon/anaconda3/envs/zeroone_univ/lib/python3.9/site-packages/torch/functional.py:572: UserWarning: stft will soon require the return_complex parameter be given for real inputs, and will further require that return_complex=True in a future PyTorch release. (Triggered internally at  /opt/conda/conda-bld/pytorch_1639180487213/work/aten/src/ATen/native/SpectralOps.cpp:659.)\n",
      "  return _VF.stft(input, n_fft, hop_length, win_length, window,  # type: ignore[attr-defined]\n"
     ]
    }
   ],
   "source": [
    "x_noisy = x_proc\n",
    "x_target = x_orig\n",
    "a = torch.mean(torch.abs(stft_RIsum(x_target) - stft_RIsum(x_noisy)))"
   ]
  },
  {
   "cell_type": "code",
   "execution_count": 8,
   "metadata": {},
   "outputs": [],
   "source": [
    "a = []\n",
    "a.append(torch.rand(1))\n"
   ]
  },
  {
   "cell_type": "code",
   "execution_count": 9,
   "metadata": {},
   "outputs": [
    {
     "data": {
      "text/plain": [
       "[tensor([0.1728])]"
      ]
     },
     "execution_count": 9,
     "metadata": {},
     "output_type": "execute_result"
    }
   ],
   "source": [
    "a"
   ]
  },
  {
   "cell_type": "code",
   "execution_count": null,
   "metadata": {},
   "outputs": [],
   "source": []
  }
 ],
 "metadata": {
  "interpreter": {
   "hash": "f1b0e3649e55e70b6ec8e5685e1aea72dbb96601ce92e669860a122d0b7e1ee5"
  },
  "kernelspec": {
   "display_name": "Python 3.9.7 ('zeroone_univ')",
   "language": "python",
   "name": "python3"
  },
  "language_info": {
   "codemirror_mode": {
    "name": "ipython",
    "version": 3
   },
   "file_extension": ".py",
   "mimetype": "text/x-python",
   "name": "python",
   "nbconvert_exporter": "python",
   "pygments_lexer": "ipython3",
   "version": "3.9.7"
  },
  "orig_nbformat": 4
 },
 "nbformat": 4,
 "nbformat_minor": 2
}
